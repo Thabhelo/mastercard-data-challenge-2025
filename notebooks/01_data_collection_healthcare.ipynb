{
  "cells": [
    {
      "cell_type": "markdown",
      "metadata": {},
      "source": [
        "# Healthcare Desert - Data Collection (MS & AL)\n",
        "\n",
        "This notebook collects tract-level socio-economic metrics (IGS/ACS) and healthcare facility locations for Mississippi and Alabama, and prepares raw tables for downstream analysis.\n"
      ]
    },
    {
      "cell_type": "code",
      "execution_count": null,
      "metadata": {},
      "outputs": [],
      "source": [
        "import os\n",
        "import pandas as pd\n",
        "import geopandas as gpd\n",
        "from pathlib import Path\n",
        "\n",
        "DATA_RAW = Path('data/raw')\n",
        "DATA_RAW.mkdir(parents=True, exist_ok=True)\n",
        "\n",
        "TARGET_STATES = ['MS', 'AL']\n",
        "YEARS = list(range(2018, 2025))  # adjust later if needed\n",
        "\n",
        "print('Configured:', TARGET_STATES, YEARS)\n"
      ]
    },
    {
      "cell_type": "markdown",
      "metadata": {},
      "source": [
        "## Placeholders for data loaders\n",
        "\n",
        "- IGS: manual CSV upload for now (tract FIPS, metrics)\n",
        "- ACS: Census API fetch function (B27020, B19083, B19013, B17001)\n",
        "- Facilities: CMS/HRSA CSVs with lat/long\n",
        "- Boundaries: TIGER tract GeoJSON for MS/AL\n"
      ]
    }
  ],
  "metadata": {
    "language_info": {
      "name": "python"
    }
  },
  "nbformat": 4,
  "nbformat_minor": 2
}
