{
 "cells": [
  {
   "cell_type": "markdown",
   "metadata": {},
   "source": [
    "# Healthcare Desert - Data Collection (MS & AL)\n",
    "\n",
    "This notebook collects tract-level socio-economic metrics (IGS/ACS) and healthcare facility locations for Mississippi and Alabama, and prepares raw tables for downstream analysis.\n",
    "\n",
    "Inputs: IGS CSVs (tract-level), ACS via API, facility CSVs/GeoJSON, tract boundaries.\n",
    "Outputs: Raw tables in `data/raw/` and merged attributes for modeling.\n"
   ]
  },
  {
   "cell_type": "code",
   "execution_count": null,
   "metadata": {},
   "outputs": [],
   "source": [
    "import os\n",
    "import pandas as pd\n",
    "import geopandas as gpd\n",
    "from pathlib import Path\n",
    "\n",
    "DATA_RAW = Path('data/raw')\n",
    "DATA_RAW.mkdir(parents=True, exist_ok=True)\n",
    "\n",
    "TARGET_STATES = ['MS', 'AL']\n",
    "YEARS = list(range(2018, 2025))  # adjust later if needed\n",
    "\n",
    "print('Configured:', TARGET_STATES, YEARS)\n"
   ]
  },
  {
   "cell_type": "markdown",
   "metadata": {},
   "source": [
    "## Placeholders for data loaders\n",
    "\n",
    "- IGS: manual CSV upload for now (tract FIPS, metrics)\n",
    "- ACS: Census API fetch function (B27020, B19083, B19013, B17001)\n",
    "- Facilities: CMS/HRSA CSVs with lat/long\n",
    "- Boundaries: TIGER tract GeoJSON for MS/AL\n"
   ]
  },
  {
   "cell_type": "code",
   "execution_count": null,
   "metadata": {},
   "outputs": [],
   "source": [
    "from src.data.fetch_census_acs import fetch_acs_tract_data, normalize_acs_columns\n",
    "from pathlib import Path\n",
    "import pandas as pd\n",
    "\n",
    "DATA_RAW = Path('data/raw')\n",
    "DATA_RAW.mkdir(parents=True, exist_ok=True)\n",
    "\n",
    "# FIPS: Alabama=01, Mississippi=28\n",
    "STATE_FIPS = {\"AL\": \"01\", \"MS\": \"28\"}\n",
    "ACS_VARS = {\n",
    "    \"B19013_001E\": \"median_income\",\n",
    "    \"B19083_001E\": \"gini\",\n",
    "}\n",
    "\n",
    "frames = []\n",
    "for abbr, fips in STATE_FIPS.items():\n",
    "    df = fetch_acs_tract_data(state_fips=fips, variables=list(ACS_VARS.keys()), dataset=\"acs/acs5\", year=2023)\n",
    "    df = normalize_acs_columns(df, ACS_VARS)\n",
    "    df[\"state_abbr\"] = abbr\n",
    "    frames.append(df)\n",
    "\n",
    "acs = pd.concat(frames, ignore_index=True)\n",
    "acs.to_csv(DATA_RAW / 'acs_ms_al_2023.csv', index=False)\n",
    "acs.head()\n"
   ]
  }
 ],
 "metadata": {
  "kernelspec": {
   "display_name": "Python 3 (ipykernel)",
   "language": "python",
   "name": "python3"
  },
  "language_info": {
   "codemirror_mode": {
    "name": "ipython",
    "version": 3
   },
   "file_extension": ".py",
   "mimetype": "text/x-python",
   "name": "python",
   "nbconvert_exporter": "python",
   "pygments_lexer": "ipython3",
   "version": "3.11.11"
  }
 },
 "nbformat": 4,
 "nbformat_minor": 4
}
